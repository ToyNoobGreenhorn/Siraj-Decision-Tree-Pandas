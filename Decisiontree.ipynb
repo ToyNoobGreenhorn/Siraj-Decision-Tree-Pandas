{
 "cells": [
  {
   "cell_type": "code",
   "execution_count": null,
   "metadata": {
    "collapsed": true
   },
   "outputs": [],
   "source": [
    "#Siraj's original data:\n",
    "\n",
    "#[height, weight, shoe size]\n",
    "#X = #[[181, 80, 44], [177, 70, 43], [160, 60, 38], [154, 54, 37], [166, 65, 40],\n",
    "     #[190, 90, 47], [175, 64, 39],\n",
    "     #[177, 70, 40], [159, 55, 37], [171, 75, 42], [181, 85, 43]]\n",
    "\n",
    "#Y = ['male', 'male', 'female', 'female', 'male', 'male', 'female', 'female',\n",
    "     #'female', 'male', 'male']\n",
    "\n",
    "# This is now predd.csv"
   ]
  },
  {
   "cell_type": "code",
   "execution_count": 21,
   "metadata": {},
   "outputs": [],
   "source": [
    "import pandas\n",
    "from sklearn.preprocessing import LabelEncoder    \n",
    "    \n",
    "'names' turned to numberals    \n",
    "dataset = pandas.read_csv('predd.csv', names = ['height','weight', 'shoe size', 'gender'])\n",
    "\n",
    "#Label Encoder is forcing gender into float\n",
    "for column in dataset.columns:\n",
    "    if dataset[column].dtype == type(object):\n",
    "        le = LabelEncoder()\n",
    "        dataset[column] = le.fit_transform(dataset[column])"
   ]
  },
  {
   "cell_type": "code",
   "execution_count": 30,
   "metadata": {},
   "outputs": [
    {
     "name": "stdout",
     "output_type": "stream",
     "text": [
      "[[181  80  44   1]\n",
      " [177  70  43   1]\n",
      " [160  60  38   0]\n",
      " [154  54  37   0]\n",
      " [166  65  40   1]\n",
      " [190  90  47   1]\n",
      " [175  64  39   0]\n",
      " [177  70  40   0]\n",
      " [159  55  37   0]\n",
      " [171  75  42   1]\n",
      " [181  85  43   1]]\n",
      "[1 1 0 0 1 1 0 0 0 1 1]\n"
     ]
    }
   ],
   "source": [
    "# split data into X and y\n",
    "array = dataset.values\n",
    "X = array[:,0:3]\n",
    "Y = array[:,3]\n",
    "\n",
    "print array[:,0:4]\n",
    "print array[:,3]\n",
    "#note gender as numerical"
   ]
  },
  {
   "cell_type": "code",
   "execution_count": 26,
   "metadata": {},
   "outputs": [
    {
     "name": "stdout",
     "output_type": "stream",
     "text": [
      "[1]\n"
     ]
    }
   ],
   "source": [
    "from sklearn import tree\n",
    "\n",
    "clf = tree.DecisionTreeClassifier()\n",
    "\n",
    "clf = clf.fit(X,Y)\n",
    "\n",
    "prediction = clf.predict([[190,70,43]])    \n",
    "\n",
    "print(prediction) "
   ]
  }
 ],
 "metadata": {
  "hide_input": false,
  "kernelspec": {
   "display_name": "Python 2",
   "language": "python",
   "name": "python2"
  },
  "language_info": {
   "codemirror_mode": {
    "name": "ipython",
    "version": 2
   },
   "file_extension": ".py",
   "mimetype": "text/x-python",
   "name": "python",
   "nbconvert_exporter": "python",
   "pygments_lexer": "ipython2",
   "version": "2.7.6"
  }
 },
 "nbformat": 4,
 "nbformat_minor": 2
}
